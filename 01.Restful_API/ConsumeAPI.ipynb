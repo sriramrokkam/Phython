{
 "cells": [
  {
   "attachments": {},
   "cell_type": "markdown",
   "metadata": {},
   "source": [
    " Restful API's. Consumption and Definition.\n",
    " https://realpython.com/api-integration-in-python/"
   ]
  },
  {
   "cell_type": "code",
   "execution_count": null,
   "metadata": {},
   "outputs": [],
   "source": [
    "# GET:-> SELECT: is the most common method, allows you to retrieve resources from given API \n",
    "import requests\n",
    "api_url = \"https://jsonplaceholder.typicode.com/todos/1\"\n",
    "response = requests.get(api_url)\n",
    "response.json()"
   ]
  },
  {
   "attachments": {},
   "cell_type": "markdown",
   "metadata": {},
   "source": []
  },
  {
   "cell_type": "code",
   "execution_count": null,
   "metadata": {},
   "outputs": [],
   "source": [
    "#POST:-> INSERT: Is to post the / add new entry to the list.\n",
    "import requests\n",
    "api_url = \"https://jsonplaceholder.typicode.com/todos\"\n",
    "todo = {\"userId\": 999 , \"Sriram Rokkam\": \"Buy milk\", \"completed\": False}\n",
    "response = requests.post(api_url, json=todo)  #request.post() is to create a new record.\n",
    "print(\"Posted value:\", response.json(), \"Successfully\")  # print Json value.\n",
    "print(\"\\n\", response.status_code)"
   ]
  },
  {
   "cell_type": "code",
   "execution_count": null,
   "metadata": {},
   "outputs": [],
   "source": [
    "# POST:-> INSERT:  json.dumps() comes from the json package in the standard library. This package provides useful methods for working with JSON in Python.\n",
    "import requests\n",
    "import json\n",
    "api_url = \"https://jsonplaceholder.typicode.com/todos\"\n",
    "todo = {\"userId\": 1, \"title\": \"Buy milk\", \"completed\": False}\n",
    "headers =  {\"Content-Type\":\"application/json\"}\n",
    "response = requests.post(api_url, data=json.dumps(todo), headers=headers)\n",
    "response.json()\n",
    "response.status_code\n",
    "\n",
    "print(\"\\n\",api_url)\n",
    "print(\"\\n\",todo)\n",
    "print(\"\\n\", json.dumps(todo))\n",
    "print(\"\\n\",headers)"
   ]
  },
  {
   "cell_type": "code",
   "execution_count": 18,
   "metadata": {},
   "outputs": [
    {
     "data": {
      "text/plain": [
       "{'userId': 1, 'title': 'Wash car', 'completed': True, 'id': 10}"
      ]
     },
     "execution_count": 18,
     "metadata": {},
     "output_type": "execute_result"
    }
   ],
   "source": [
    "#PUT:-> UPDATE:  Beyond GET and POST, requests provides support for all the other HTTP methods you would use with a REST API. \n",
    "import requests\n",
    "api_url = \"https://jsonplaceholder.typicode.com/todos/10\"\n",
    "response = requests.get(api_url)\n",
    "response.json()\n",
    "todo = {\"userId\": 1, \"title\": \"Wash car\", \"completed\": True}\n",
    "response = requests.put(api_url, json=todo)\n",
    "response.json()"
   ]
  },
  {
   "cell_type": "code",
   "execution_count": null,
   "metadata": {},
   "outputs": [],
   "source": [
    "#Patch --> Modify: PATCH differs from PUT in that it doesn’t completely replace the existing resource. It only modifies the values set in the JSON sent with the request.\n",
    "import requests\n",
    "api_url = \"https://jsonplaceholder.typicode.com/todos/10\"\n",
    "todo = {\"title\": \"Mow lawn\"}\n",
    "response = requests.patch(api_url, json=todo)\n",
    "if response.status_code == 200:\n",
    "    print(response.json())\n"
   ]
  },
  {
   "cell_type": "code",
   "execution_count": 19,
   "metadata": {},
   "outputs": [
    {
     "data": {
      "text/plain": [
       "200"
      ]
     },
     "execution_count": 19,
     "metadata": {},
     "output_type": "execute_result"
    }
   ],
   "source": [
    "#Delete\n",
    "import requests\n",
    "api_url = \"https://jsonplaceholder.typicode.com/todos/10\"\n",
    "response = requests.delete(api_url)\n",
    "response.json()\n",
    "response.status_code"
   ]
  }
 ],
 "metadata": {
  "kernelspec": {
   "display_name": "Python 3",
   "language": "python",
   "name": "python3"
  },
  "language_info": {
   "codemirror_mode": {
    "name": "ipython",
    "version": 3
   },
   "file_extension": ".py",
   "mimetype": "text/x-python",
   "name": "python",
   "nbconvert_exporter": "python",
   "pygments_lexer": "ipython3",
   "version": "3.10.11"
  },
  "orig_nbformat": 4
 },
 "nbformat": 4,
 "nbformat_minor": 2
}
